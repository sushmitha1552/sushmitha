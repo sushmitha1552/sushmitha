{
 "cells": [
  {
   "cell_type": "code",
   "execution_count": 1,
   "metadata": {},
   "outputs": [
    {
     "name": "stdout",
     "output_type": "stream",
     "text": [
      "Hi\n",
      "\n",
      "Iam Sushmitha\n",
      "\n",
      "CSE\n",
      "\n",
      "B section\n",
      "\n",
      "Gitam University \n",
      "\n",
      "Bengaluru\n"
     ]
    }
   ],
   "source": [
    "#program to read an entire text file\n",
    "f=open(\"file1.txt\",\"r\")\n",
    "for line in f:\n",
    "    print(line)\n",
    "f.close()"
   ]
  },
  {
   "cell_type": "code",
   "execution_count": 2,
   "metadata": {},
   "outputs": [
    {
     "name": "stdout",
     "output_type": "stream",
     "text": [
      "Enter no.of lines to read:3\n",
      "Hi\n",
      "\n",
      "Iam Sushmitha\n",
      "\n",
      "CSE\n",
      "\n"
     ]
    }
   ],
   "source": [
    "#program to read first n lines of a file\n",
    "f=open(\"file1.txt\",\"r\")\n",
    "n=int(input(\"Enter no.of lines to read:\"))\n",
    "i=0\n",
    "for line in f:\n",
    "    if i<n:\n",
    "        print(line)\n",
    "        i+=1\n",
    "    else:\n",
    "        break\n",
    "f.close()"
   ]
  },
  {
   "cell_type": "code",
   "execution_count": 4,
   "metadata": {},
   "outputs": [
    {
     "name": "stdout",
     "output_type": "stream",
     "text": [
      "Hi\n",
      "\n",
      "Iam Sushmitha\n",
      "\n",
      "CSE\n",
      "\n",
      "B section\n",
      "\n",
      "Gitam University \n",
      "\n",
      "Bengalurumy assignment\n",
      "\n"
     ]
    }
   ],
   "source": [
    "#program to append text to a file and display the text\n",
    "f=open(\"file1.txt\",\"a\")\n",
    "f.write(\"my assignment\\n\")\n",
    "f1=open(\"file1.txt\",\"r\")\n",
    "for line in f1:\n",
    "    print(line)\n",
    "f.close()\n",
    "f1.close()"
   ]
  },
  {
   "cell_type": "code",
   "execution_count": 5,
   "metadata": {},
   "outputs": [
    {
     "name": "stdout",
     "output_type": "stream",
     "text": [
      "Enter no.of lines to read:2\n",
      "He's my strength\n",
      "\n",
      "He always maintains smile\n"
     ]
    }
   ],
   "source": [
    "#program to read last n lines of a file\n",
    "f=open(\"file2.txt\",\"r\")\n",
    "n=int(input(\"Enter no.of lines to read:\"))\n",
    "for line in (f.readlines()[-n:]):\n",
    "    print(line)\n",
    "f.close()\n"
   ]
  },
  {
   "cell_type": "code",
   "execution_count": 6,
   "metadata": {},
   "outputs": [
    {
     "name": "stdout",
     "output_type": "stream",
     "text": [
      "My father is my hero\n",
      "i love him\n",
      "He's my strength\n",
      "He always maintains smile\n"
     ]
    }
   ],
   "source": [
    "#program to read a file line by line store it into a variable\n",
    "f=open(\"file2.txt\",\"r\")\n",
    "a=\"\"\n",
    "for line in f:\n",
    "    a=a+line\n",
    "print(a)\n",
    "f.close()"
   ]
  },
  {
   "cell_type": "code",
   "execution_count": 7,
   "metadata": {},
   "outputs": [
    {
     "name": "stdout",
     "output_type": "stream",
     "text": [
      "['My father is my hero\\n', 'i love him\\n', \"He's my strength\\n\", 'He always maintains smile']\n"
     ]
    }
   ],
   "source": [
    "# program to read a file line by line and store it into list\n",
    "f=open(\"file2.txt\",\"r\")\n",
    "l=[]\n",
    "for line in f:\n",
    "    l.append(line)\n",
    "print(l)\n",
    "f.close()\n"
   ]
  },
  {
   "cell_type": "code",
   "execution_count": 8,
   "metadata": {},
   "outputs": [
    {
     "name": "stdout",
     "output_type": "stream",
     "text": [
      "['My father is my hero\\n', 'i love him\\n', \"He's my strength\\n\", 'He always maintains smile']\n"
     ]
    }
   ],
   "source": [
    "#program to read a file line by line store it into an array\n",
    "f=open(\"file2.txt\",\"r\")\n",
    "l=[]\n",
    "for line in f:\n",
    "    l.append(line)\n",
    "print(l)\n",
    "f.close()\n"
   ]
  },
  {
   "cell_type": "code",
   "execution_count": 9,
   "metadata": {},
   "outputs": [
    {
     "name": "stdout",
     "output_type": "stream",
     "text": [
      "No.of lines in file2.txt: 4\n"
     ]
    }
   ],
   "source": [
    "# program to count the number of lines in a text file\n",
    "f=open(\"file2.txt\",\"r\")\n",
    "count=0\n",
    "for line in f:\n",
    "    count+=1\n",
    "print(\"No.of lines in file2.txt:\",count)"
   ]
  },
  {
   "cell_type": "code",
   "execution_count": 10,
   "metadata": {},
   "outputs": [
    {
     "name": "stdout",
     "output_type": "stream",
     "text": [
      "Size of file2.txt: 74 bytes\n"
     ]
    }
   ],
   "source": [
    "# program to get the file size of a plain file\n",
    "import os\n",
    "size=os.path.getsize(\"file2.txt\")\n",
    "print(\"Size of file2.txt:\",size,\"bytes\")"
   ]
  },
  {
   "cell_type": "code",
   "execution_count": 19,
   "metadata": {},
   "outputs": [
    {
     "name": "stdout",
     "output_type": "stream",
     "text": [
      "My father is my hero\n",
      "\n",
      "i love him\n",
      "\n",
      "He's my strength\n",
      "\n",
      "He always maintains smile\n"
     ]
    }
   ],
   "source": [
    "# program to copy the contents of a file to another file \n",
    "my_file1=open(\"file2.txt\",\"r\")\n",
    "my_file2=open(\"file3.txt\",\"w\")\n",
    "for line in my_file1:\n",
    "    my_file2.write(line)\n",
    "my_file1.close()\n",
    "my_file2.close()\n",
    "my_file3=open(\"file3.txt\",\"r\")\n",
    "for l in my_file3:\n",
    "    print(l)\n",
    "my_file3.close()"
   ]
  },
  {
   "cell_type": "code",
   "execution_count": 20,
   "metadata": {},
   "outputs": [
    {
     "name": "stdout",
     "output_type": "stream",
     "text": [
      "Sum of elements of list: 55\n"
     ]
    }
   ],
   "source": [
    "#program to sum all the items in a list\n",
    "l=[1,2,3,4,5,6,7,8,9,10]\n",
    "sum=0\n",
    "for i in l:\n",
    "    sum+=i\n",
    "print(\"Sum of elements of list:\",sum)\n"
   ]
  },
  {
   "cell_type": "code",
   "execution_count": 22,
   "metadata": {},
   "outputs": [
    {
     "name": "stdout",
     "output_type": "stream",
     "text": [
      "Multiplication of elements of list: 3628800\n"
     ]
    }
   ],
   "source": [
    "# Python program to multiplies all the items in a list\n",
    "l=[1,2,3,4,5,6,7,8,9,10]\n",
    "mul=1\n",
    "for i in l:\n",
    "    mul*=i\n",
    "print(\"Multiplication of elements of list:\",mul)"
   ]
  },
  {
   "cell_type": "code",
   "execution_count": 23,
   "metadata": {},
   "outputs": [
    {
     "name": "stdout",
     "output_type": "stream",
     "text": [
      "Smallest value in list: 1\n",
      "largest value in list: 10\n"
     ]
    }
   ],
   "source": [
    "# program to get the largest & smallest number from a list\n",
    "l=[1,2,3,4,5,6,7,8,9,10]\n",
    "s=l[0]\n",
    "h=l[0]\n",
    "for i in l:\n",
    "    if s>i:\n",
    "        s=i\n",
    "    if h<i:\n",
    "        h=i\n",
    "print(\"Smallest value in list:\",s)\n",
    "print(\"largest value in list:\",h)\n"
   ]
  },
  {
   "cell_type": "code",
   "execution_count": 24,
   "metadata": {},
   "outputs": [
    {
     "name": "stdout",
     "output_type": "stream",
     "text": [
      "After removing duplicates:\n",
      "List: [10, 20, 30, 40]\n"
     ]
    }
   ],
   "source": [
    "# program to remove duplicates from a list\n",
    "l1=[10,20,30,40,10,20,30,40]\n",
    "l2=[]\n",
    "for i in l1:\n",
    "    if i not in l2:\n",
    "        l2.append(i)\n",
    "    else:\n",
    "        continue\n",
    "print(\"After removing duplicates:\")\n",
    "print(\"List:\",l2)"
   ]
  },
  {
   "cell_type": "code",
   "execution_count": 25,
   "metadata": {},
   "outputs": [
    {
     "name": "stdout",
     "output_type": "stream",
     "text": [
      "List is empty\n"
     ]
    }
   ],
   "source": [
    "#program to check a list is empty or not\n",
    "l=[]\n",
    "if len(l)==0:\n",
    "    print(\"List is empty\")\n",
    "else:\n",
    "    print(\"List is not empty\")"
   ]
  },
  {
   "cell_type": "code",
   "execution_count": 26,
   "metadata": {},
   "outputs": [
    {
     "name": "stdout",
     "output_type": "stream",
     "text": [
      "[10, 20, 30, 40]\n"
     ]
    }
   ],
   "source": [
    "#program to clone or copy a list\n",
    "l1=[10,20,30,40]\n",
    "l2=[]\n",
    "for i in l1:\n",
    "    l2.append(i)\n",
    "print(l2)"
   ]
  },
  {
   "cell_type": "code",
   "execution_count": 38,
   "metadata": {},
   "outputs": [
    {
     "name": "stdout",
     "output_type": "stream",
     "text": [
      "After removing 0th,4th and 5th positions:\n",
      "List: ['Green', 'White', 'Black']\n"
     ]
    }
   ],
   "source": [
    "# program to print a specified list after removing the 0th, 4th and 5th elements. Sample List : ['Red', 'Green', 'White',\n",
    "#'Black', 'Pink', 'Yellow'] Expected Output : ['Green', 'White', 'Black']\n",
    "l1= ['Red','Green','White','Black','Pink','Yellow']\n",
    "l2=[]\n",
    "i=0\n",
    "while i<len(l1):\n",
    "    \n",
    "    if i==0 or i==4 or i==5:\n",
    "            i+=1\n",
    "            continue\n",
    "    else:\n",
    "        l2.append(l1[i])\n",
    "        i+=1\n",
    "print(\"After removing 0th,4th and 5th positions:\")\n",
    "print(\"List:\",l2)\n"
   ]
  },
  {
   "cell_type": "code",
   "execution_count": 39,
   "metadata": {},
   "outputs": [
    {
     "name": "stdout",
     "output_type": "stream",
     "text": [
      "After removing even numbers from list:\n",
      "List: [1, 3, 5, 7, 9]\n"
     ]
    }
   ],
   "source": [
    "#program to print the numbers of a specified list after removing even numbers from it\n",
    "l1=[1,2,3,4,5,6,7,8,9,10]\n",
    "l2=[]\n",
    "for i in l1:\n",
    "    if i%2==0:\n",
    "        continue\n",
    "    else:\n",
    "        l2.append(i)\n",
    "print(\"After removing even numbers from list:\")\n",
    "print(\"List:\",l2)"
   ]
  },
  {
   "cell_type": "code",
   "execution_count": 40,
   "metadata": {},
   "outputs": [
    {
     "name": "stdout",
     "output_type": "stream",
     "text": [
      "[3, 2, 4, 7, 6, 10, 9, 5, 1, 8]\n"
     ]
    }
   ],
   "source": [
    "#program to shuffle and print a specified list\n",
    "from random import shuffle\n",
    "l=[1,2,3,4,5,6,7,8,9,10]\n",
    "shuffle(l)\n",
    "print(l)"
   ]
  },
  {
   "cell_type": "code",
   "execution_count": 41,
   "metadata": {},
   "outputs": [
    {
     "name": "stdout",
     "output_type": "stream",
     "text": [
      "Difference between two lists: [9, 18, 27, 36, 45, 54, 63, 72, 81, 90]\n"
     ]
    }
   ],
   "source": [
    "#program to get the difference between the two lists\n",
    "l1=[10,20,30,40,50,60,70,80,90,100]\n",
    "l2=[1,2,3,4,5,6,7,8,9,10]\n",
    "l3=[]\n",
    "if len(l1)==len(l2):\n",
    "    i,j=0,0\n",
    "    while i<len(l1) and j<len(l2):\n",
    "        l3.append(l1[i]-l2[j])\n",
    "        i+=1\n",
    "        j+=1\n",
    "    print(\"Difference between two lists:\",l3)\n",
    "else:\n",
    "    print(\"No.of elements are different.Not able to do difference\")"
   ]
  },
  {
   "cell_type": "code",
   "execution_count": null,
   "metadata": {},
   "outputs": [],
   "source": []
  }
 ],
 "metadata": {
  "kernelspec": {
   "display_name": "Python 3",
   "language": "python",
   "name": "python3"
  },
  "language_info": {
   "codemirror_mode": {
    "name": "ipython",
    "version": 3
   },
   "file_extension": ".py",
   "mimetype": "text/x-python",
   "name": "python",
   "nbconvert_exporter": "python",
   "pygments_lexer": "ipython3",
   "version": "3.6.2"
  }
 },
 "nbformat": 4,
 "nbformat_minor": 4
}
