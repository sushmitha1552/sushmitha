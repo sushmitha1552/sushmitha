{
 "cells": [
  {
   "cell_type": "markdown",
   "metadata": {},
   "source": [
    "1.what is dictionary in python? Explain with an example.\n",
    "\n",
    "A Dictionary is used to map or associate the things you want to store the keys you need to get them. Dictionary are defined into two elements keys and values.keys will be a single element. \n",
    "Ex:\n",
    "d1={\"apple\":1,\"mango\":2,\"pineapple\":4}\n",
    "apple,mango,banana are keys 1,2,4 are known as values.\n"
   ]
  },
  {
   "cell_type": "markdown",
   "metadata": {},
   "source": [
    "2.what is dictionary in python? Explain with an example.\n",
    "\n",
    "A Dictionary is used to map or associate the things you want to store the keys you need to get them. Dictionary are defined into two elements keys and values.keys will be a single element.\n",
    "Ex: \n",
    "d1={\"apple\":1,\"mango\":2,\"pineapple\":4} apple,mango,banana are keys 1,2,4 are known as values."
   ]
  },
  {
   "cell_type": "code",
   "execution_count": 1,
   "metadata": {},
   "outputs": [
    {
     "name": "stdout",
     "output_type": "stream",
     "text": [
      "sum of elements in the list is: 100\n"
     ]
    }
   ],
   "source": [
    "# program to sum all items in a list\n",
    "sum=0\n",
    "list=[12,3,5,67,3,10]\n",
    "for i in  range(0,len(list)):\n",
    "    sum=sum+list[i]\n",
    "print(\"sum of elements in the list is:\",sum)\n"
   ]
  },
  {
   "cell_type": "code",
   "execution_count": 2,
   "metadata": {},
   "outputs": [
    {
     "name": "stdout",
     "output_type": "stream",
     "text": [
      "[{}, {}, {}]\n"
     ]
    }
   ],
   "source": [
    "# program to create a list of empty dictionaries.\n",
    "n=3\n",
    "l=[{} for _ in range(n)]\n",
    "print(l)\n"
   ]
  },
  {
   "cell_type": "code",
   "execution_count": 3,
   "metadata": {},
   "outputs": [
    {
     "name": "stdout",
     "output_type": "stream",
     "text": [
      "original dictionary is:{'hello': 32, 'gitam': 12, 'hyderabad': 21, 'banglore': 36, 'vizag': 5}\n",
      "key values are:\n",
      "hello\n",
      "gitam\n",
      "hyderabad\n",
      "banglore\n",
      "vizag\n"
     ]
    }
   ],
   "source": [
    "# program to access dictionary keys element by index\n",
    "d1={\"hello\":32,\"gitam\":12,\"hyderabad\":21,\"banglore\":36,\"vizag\":5}\n",
    "print(\"original dictionary is:\"+str(d1))\n",
    "print(\"key values are:\")\n",
    "for i in d1:\n",
    "    print(i)\n"
   ]
  },
  {
   "cell_type": "code",
   "execution_count": 4,
   "metadata": {},
   "outputs": [
    {
     "name": "stdout",
     "output_type": "stream",
     "text": [
      "Anantapur 32\n",
      "Chitoor 12\n",
      "Hindupur 21\n"
     ]
    }
   ],
   "source": [
    "# program to iterate over dictionaries using for loop\n",
    "d1={\"Anantapur\":32,\"Chitoor\":12,\"Hindupur\":21}\n",
    "for k,v in d1.items():\n",
    "    print(k,v)\n"
   ]
  },
  {
   "cell_type": "code",
   "execution_count": 5,
   "metadata": {},
   "outputs": [
    {
     "name": "stdout",
     "output_type": "stream",
     "text": [
      "sum of items in the dictionary: 35\n"
     ]
    }
   ],
   "source": [
    "#program to sum all items in the dictionary\n",
    "def sum(d2):\n",
    "    sum=0\n",
    "    for i in d2:\n",
    "        sum=sum+d2[i]\n",
    "    return sum\n",
    "d2={\"a\":12,\"b\":8,\"c\":15}\n",
    "print(\"sum of items in the dictionary:\",sum(d2))\n"
   ]
  },
  {
   "cell_type": "code",
   "execution_count": 6,
   "metadata": {},
   "outputs": [
    {
     "name": "stdout",
     "output_type": "stream",
     "text": [
      "{1: 10, 2: 20, 3: 30, 4: 40, 5: 50, 6: 60}\n"
     ]
    }
   ],
   "source": [
    "#python script to concatenate the following dictionaries to create a new one\n",
    "#sample dictionary\n",
    "#dic1={1:10,2:20}\n",
    "#dic2={3:30,4:40}\n",
    "#dic3={5:50,6:60}\n",
    "\n",
    "dic1={1:10,2:20}\n",
    "dic2={3:30,4:40}\n",
    "dic3={5:50,6:60}\n",
    "dic4={}\n",
    "for d in (dic1,dic2,dic3):\n",
    "    dic4.update(d)\n",
    "print(dic4)\n"
   ]
  },
  {
   "cell_type": "code",
   "execution_count": 7,
   "metadata": {},
   "outputs": [
    {
     "name": "stdout",
     "output_type": "stream",
     "text": [
      "(5, 10, 15, 20, 25)\n"
     ]
    }
   ],
   "source": [
    "# program to create a tuple\n",
    "t=5,10,15,20,25\n",
    "print(t)\n"
   ]
  },
  {
   "cell_type": "code",
   "execution_count": 8,
   "metadata": {},
   "outputs": [
    {
     "name": "stdout",
     "output_type": "stream",
     "text": [
      "(1, 6.9, 'hi', False)\n"
     ]
    }
   ],
   "source": [
    "# program to create a tuple with different data types\n",
    "t1=(1,6.9,\"hi\",False)\n",
    "print(t1)\n"
   ]
  },
  {
   "cell_type": "code",
   "execution_count": 9,
   "metadata": {},
   "outputs": [
    {
     "name": "stdout",
     "output_type": "stream",
     "text": [
      "hello\n"
     ]
    }
   ],
   "source": [
    "#program to convert a tuple in to a string\n",
    "\n",
    "tuple=('h','e','l','l','o')\n",
    "str=''.join(tuple)\n",
    "print(str)\n"
   ]
  },
  {
   "cell_type": "code",
   "execution_count": 10,
   "metadata": {},
   "outputs": [
    {
     "name": "stdout",
     "output_type": "stream",
     "text": [
      "(5, 4)\n"
     ]
    }
   ],
   "source": [
    "# program to slice a tuple\n",
    "t=(2,4,3,5,4,6,7,8,6,1)\n",
    "slice=t[3:5]\n",
    "print(slice)\n"
   ]
  },
  {
   "cell_type": "code",
   "execution_count": 11,
   "metadata": {},
   "outputs": [
    {
     "name": "stdout",
     "output_type": "stream",
     "text": [
      "8\n"
     ]
    }
   ],
   "source": [
    "# program to find the length of a tuple\n",
    "t3=(10,6,8,7,9,0,6,5)\n",
    "print(len(t3))\n"
   ]
  },
  {
   "cell_type": "code",
   "execution_count": 12,
   "metadata": {},
   "outputs": [
    {
     "name": "stdout",
     "output_type": "stream",
     "text": [
      "{'akash': [10], 'gowtham': [12], 'ajay': [25]}\n"
     ]
    }
   ],
   "source": [
    "# program to convert a tuple into a dictionary\n",
    "def convert(tup,di):\n",
    "    for a,b in tup:\n",
    "        di.setdefault(a,[]).append(b)\n",
    "    return di\n",
    "tups=[(\"akash\",10),(\"gowtham\",12),(\"ajay\",25)]\n",
    "dictionary={}\n",
    "print(convert(tups,dictionary))\n"
   ]
  },
  {
   "cell_type": "code",
   "execution_count": 13,
   "metadata": {},
   "outputs": [
    {
     "name": "stdout",
     "output_type": "stream",
     "text": [
      "(9, 8, 7, 6, 5, 4, 3, 2, 1)\n"
     ]
    }
   ],
   "source": [
    "# program to reverse a tuple\n",
    "def reverse(tuple):\n",
    "    new_tuple=tuple[::-1]\n",
    "    return new_tuple\n",
    "tuple=(1,2,3,4,5,6,7,8,9)\n",
    "print(reverse(tuple))\n"
   ]
  },
  {
   "cell_type": "code",
   "execution_count": 14,
   "metadata": {},
   "outputs": [
    {
     "name": "stdout",
     "output_type": "stream",
     "text": [
      "{'x': [1], 'y': [2], 'z': [3]}\n"
     ]
    }
   ],
   "source": [
    "#program to convert a list of tuples into a dictionary\n",
    "l=[(\"x\",1),(\"y\",2),(\"z\",3)]\n",
    "d={}\n",
    "for a,b in l:\n",
    "    d.setdefault(a, []).append(b)\n",
    "print(d)\n"
   ]
  },
  {
   "cell_type": "code",
   "execution_count": 19,
   "metadata": {},
   "outputs": [
    {
     "name": "stdout",
     "output_type": "stream",
     "text": [
      "(1, 2, 3, 4)\n"
     ]
    }
   ],
   "source": [
    "#program to convert a list in to a tuple\n",
    "def convert(list): \n",
    "    return (*list, ) \n",
    "list = [1, 2, 3, 4] \n",
    "print(convert(list)) \n",
    "\n"
   ]
  },
  {
   "cell_type": "code",
   "execution_count": null,
   "metadata": {},
   "outputs": [],
   "source": []
  }
 ],
 "metadata": {
  "kernelspec": {
   "display_name": "Python 3",
   "language": "python",
   "name": "python3"
  },
  "language_info": {
   "codemirror_mode": {
    "name": "ipython",
    "version": 3
   },
   "file_extension": ".py",
   "mimetype": "text/x-python",
   "name": "python",
   "nbconvert_exporter": "python",
   "pygments_lexer": "ipython3",
   "version": "3.6.2"
  }
 },
 "nbformat": 4,
 "nbformat_minor": 4
}
