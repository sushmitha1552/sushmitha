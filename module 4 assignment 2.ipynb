{
 "cells": [
  {
   "cell_type": "code",
   "execution_count": 1,
   "metadata": {},
   "outputs": [
    {
     "name": "stdout",
     "output_type": "stream",
     "text": [
      "1 2 Fizz 4 Buzz Fizz 7 8 Fizz Buzz 11 Fizz 13 14 FizzBuzz 16 17 Fizz 19 Buzz Fizz 22 23 Fizz Buzz 26 Fizz 28 29 FizzBuzz 31 32 Fizz 34 Buzz Fizz 37 38 Fizz Buzz 41 Fizz 43 44 FizzBuzz 46 47 Fizz 49 Buzz Fizz 52 53 Fizz Buzz 56 Fizz 58 59 FizzBuzz 61 62 Fizz 64 Buzz Fizz 67 68 Fizz Buzz 71 Fizz 73 74 FizzBuzz 76 77 Fizz 79 Buzz Fizz 82 83 Fizz Buzz 86 Fizz 88 89 FizzBuzz 91 92 Fizz 94 Buzz Fizz 97 98 Fizz Buzz "
     ]
    }
   ],
   "source": [
    "#Write a program that prints the integers from 1 to 100. But for multiples of three print \"Fizz\". instead of the number, and for the\n",
    "#multiples of five print \"Buzz\". For numbers which are multiples of both three and five print \"FizzBuzz\"\n",
    "for i in range(1,101):\n",
    "    if i%3==0 and i%5!=0:\n",
    "        print(\"Fizz\",end=\" \")\n",
    "    elif i%5==0 and i%3!=0:\n",
    "        print(\"Buzz\",end=\" \")\n",
    "    elif i%3==0 and i%5==0:\n",
    "         print(\"FizzBuzz\",end=\" \")\n",
    "    else:\n",
    "         print(i,end=\" \")"
   ]
  },
  {
   "cell_type": "code",
   "execution_count": 3,
   "metadata": {},
   "outputs": [
    {
     "name": "stdout",
     "output_type": "stream",
     "text": [
      "Before removing consecutive duplicates:\n",
      "List: [10, 10, 20, 30, 30, 20, 20]\n",
      "After removing consecutive duplicates:\n",
      "List: [10, 20, 30, 20]\n"
     ]
    }
   ],
   "source": [
    "#program to remove consecutive duplicates from list\n",
    "l1=[10,10,20,30,30,20,20]\n",
    "print(\"Before removing consecutive duplicates:\")\n",
    "print(\"List:\",l1)\n",
    "l=len(l1)\n",
    "l2=[]\n",
    "i=0\n",
    "while i<l-1:\n",
    "    j=i+1\n",
    "    if l1[i]==l1[j]:\n",
    "        l2.append(l1[i])\n",
    "        i+=2\n",
    "    else:\n",
    "        l2.append(l1[i])\n",
    "        i+=1\n",
    "while i<l:\n",
    "    l2.append(l1[i])\n",
    "    i+=1\n",
    "print(\"After removing consecutive duplicates:\")\n",
    "print(\"List:\",l2)"
   ]
  },
  {
   "cell_type": "code",
   "execution_count": 6,
   "metadata": {},
   "outputs": [
    {
     "name": "stdout",
     "output_type": "stream",
     "text": [
      "Before finding unique elements in list:\n",
      "List: [10, 20, 30, 40, 10, 20, 30, 40]\n",
      "After finding unique elements in list:\n",
      "List: [10, 20, 30, 40]\n"
     ]
    }
   ],
   "source": [
    "# program to find unique element from a list\n",
    "l1=[10,20,30,40,10,20,30,40]\n",
    "print(\"Before finding unique elements in list:\")\n",
    "print(\"List:\",l1)\n",
    "l2=list()\n",
    "for i in l1:\n",
    "    if i not in l2:\n",
    "        l2.append(i)\n",
    "    else:\n",
    "        continue\n",
    "print(\"After finding unique elements in list:\")\n",
    "print(\"List:\",l2)\n"
   ]
  },
  {
   "cell_type": "code",
   "execution_count": 7,
   "metadata": {},
   "outputs": [
    {
     "name": "stdout",
     "output_type": "stream",
     "text": [
      "Enter a number:3\n",
      "Enter the upper range:5\n",
      "Enter the lower range:2\n",
      "Entered number is in given rannge\n"
     ]
    }
   ],
   "source": [
    "#function that checks whether a number is in a given range (inclusive of high and low)\n",
    "def ran(num):\n",
    "    h=int(input(\"Enter the upper range:\"))\n",
    "    l=int(input(\"Enter the lower range:\"))\n",
    "    if num>h:\n",
    "        print(\"Entered number is not in given rannge.It is high\")\n",
    "    elif num<l:\n",
    "        print(\"Entered number is not in given rannge.It is low\")\n",
    "    else:\n",
    "        print(\"Entered number is in given rannge\")\n",
    "a=int(input(\"Enter a number:\"))\n",
    "ran(a)"
   ]
  },
  {
   "cell_type": "code",
   "execution_count": 9,
   "metadata": {},
   "outputs": [
    {
     "name": "stdout",
     "output_type": "stream",
     "text": [
      "Enter a string:sushmitha\n",
      "No.of upper case letters: 0\n",
      "No.of lower case letters: 9\n"
     ]
    }
   ],
   "source": [
    "#function that accepts a string and calculate the number ofupper case letters and lower case letters.\n",
    "#Sample String : 'Hello Mr. Rogers, how are you this fine Tuesday?'\n",
    "#Expected Output:\n",
    "#No. of Upper case characters: 4 No. of Lower case Characters : 33\n",
    "def cal(a):\n",
    "    u=0\n",
    "    l=0\n",
    "    for i in a:\n",
    "        if i.isupper():\n",
    "            u+=1\n",
    "        if i.islower():\n",
    "            l+=1\n",
    "    print(\"No.of upper case letters:\",u)\n",
    "    print(\"No.of lower case letters:\",l)\n",
    "s=input(\"Enter a string:\")\n",
    "cal(s)"
   ]
  },
  {
   "cell_type": "code",
   "execution_count": null,
   "metadata": {},
   "outputs": [],
   "source": []
  }
 ],
 "metadata": {
  "kernelspec": {
   "display_name": "Python 3",
   "language": "python",
   "name": "python3"
  },
  "language_info": {
   "codemirror_mode": {
    "name": "ipython",
    "version": 3
   },
   "file_extension": ".py",
   "mimetype": "text/x-python",
   "name": "python",
   "nbconvert_exporter": "python",
   "pygments_lexer": "ipython3",
   "version": "3.6.2"
  }
 },
 "nbformat": 4,
 "nbformat_minor": 4
}
